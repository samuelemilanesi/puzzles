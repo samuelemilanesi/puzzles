{
 "cells": [
  {
   "cell_type": "code",
   "execution_count": 1,
   "metadata": {},
   "outputs": [],
   "source": [
    "import numpy as np\n",
    "from algorithm_x import AlgorithmX"
   ]
  },
  {
   "cell_type": "code",
   "execution_count": 19,
   "metadata": {},
   "outputs": [],
   "source": [
    "def build_solver(N):\n",
    "    N_tri = sum([2*j+1 for j in range(N-1)])\n",
    "    N_points = int(N*(N+1)/2)\n",
    "\n",
    "    solver = AlgorithmX(N_points)\n",
    "\n",
    "    A=np.zeros((1,N_points)).astype(int)\n",
    "\n",
    "    d={}\n",
    "    for i in range(0,N):\n",
    "        for j in range(i+1):\n",
    "            n = int((i*(i+1)/2)+j+1)\n",
    "            d[(i,j)] = n\n",
    "\n",
    "    for i in range(1,N):\n",
    "        for j in range(2*i-1):\n",
    "            if j==0:\n",
    "                row = np.zeros(N_points).astype(int)\n",
    "                p1,p2,p3=d[(i,j)],d[(i,j+1)],d[(i-1,j)]\n",
    "                row[p1-1]=1\n",
    "                row[p2-1]=1\n",
    "                row[p3-1]=1\n",
    "                A = np.concatenate((A, row.reshape(1,N_points)), axis=0)\n",
    "                name = str(p1)+\",\"+str(p2)+\",\"+str(p3)\n",
    "                solver.appendRow([p1-1, p2-1, p3-1], name)\n",
    "            elif j>=i:\n",
    "                pass\n",
    "            else:\n",
    "                row = np.zeros(N_points).astype(int)\n",
    "                p1,p2,p3=d[(i,j)],d[(i,j+1)],d[(i-1,j)]\n",
    "                row[p1-1]=1\n",
    "                row[p2-1]=1\n",
    "                row[p3-1]=1\n",
    "                A = np.concatenate((A, row.reshape(1,N_points)), axis=0)\n",
    "                name = str(p1)+\",\"+str(p2)+\",\"+str(p3)\n",
    "                solver.appendRow([p1-1, p2-1, p3-1], name)\n",
    "\n",
    "                row = np.zeros(N_points).astype(int)\n",
    "                p1,p2,p3=d[(i,j)],d[(i-1,j)],d[(i-1,j-1)]\n",
    "                row[p1-1]=1\n",
    "                row[p2-1]=1\n",
    "                row[p3-1]=1\n",
    "                A = np.concatenate((A, row.reshape(1,N_points)), axis=0)\n",
    "                name = str(p1)+\",\"+str(p2)+\",\"+str(p3)\n",
    "                solver.appendRow([p1-1, p2-1, p3-1], name)\n",
    "    A = A[1:,:]\n",
    "    return solver"
   ]
  },
  {
   "cell_type": "code",
   "execution_count": 20,
   "metadata": {},
   "outputs": [
    {
     "name": "stdout",
     "output_type": "stream",
     "text": [
      "2\n",
      "2  Solves!\n",
      "3\n",
      "4\n",
      "4  Not divisible!\n",
      "5\n",
      "6\n",
      "7\n",
      "7  Not divisible!\n",
      "8\n",
      "9\n",
      "9  Solves!\n",
      "10\n",
      "10  Not divisible!\n",
      "11\n",
      "11  Solves!\n"
     ]
    }
   ],
   "source": [
    "S={}\n",
    "for N in range(2,12):\n",
    "    print(N)\n",
    "    solver = build_solver(N)\n",
    "    if int(N*(N+1)/2)%3!=0:\n",
    "        print(N,\" Not divisible!\")\n",
    "        S[N] = \"NOT DIVISIBLE\"\n",
    "\n",
    "    else:\n",
    "        solutions = list(solver.solve())\n",
    "        if len(solutions)>0:\n",
    "            print(N,\" Solves!\")\n",
    "        S[N] = solutions"
   ]
  },
  {
   "cell_type": "code",
   "execution_count": 16,
   "metadata": {},
   "outputs": [
    {
     "data": {
      "text/plain": [
       "['2,3,1',\n",
       " '56,57,46',\n",
       " '65,66,55',\n",
       " '7,8,4',\n",
       " '9,6,5',\n",
       " '14,15,10',\n",
       " '16,17,11',\n",
       " '18,13,12',\n",
       " '25,26,19',\n",
       " '27,21,20',\n",
       " '35,36,28',\n",
       " '54,45,44',\n",
       " '63,64,53',\n",
       " '29,30,22',\n",
       " '31,24,23',\n",
       " '47,38,37',\n",
       " '58,59,48',\n",
       " '49,40,39',\n",
       " '41,33,32',\n",
       " '42,43,34',\n",
       " '62,52,51',\n",
       " '60,61,50']"
      ]
     },
     "execution_count": 16,
     "metadata": {},
     "output_type": "execute_result"
    }
   ],
   "source": [
    "S[11][0]"
   ]
  },
  {
   "cell_type": "code",
   "execution_count": null,
   "metadata": {},
   "outputs": [],
   "source": []
  }
 ],
 "metadata": {
  "kernelspec": {
   "display_name": "Python 3",
   "language": "python",
   "name": "python3"
  },
  "language_info": {
   "codemirror_mode": {
    "name": "ipython",
    "version": 3
   },
   "file_extension": ".py",
   "mimetype": "text/x-python",
   "name": "python",
   "nbconvert_exporter": "python",
   "pygments_lexer": "ipython3",
   "version": "3.7.6"
  }
 },
 "nbformat": 4,
 "nbformat_minor": 2
}
